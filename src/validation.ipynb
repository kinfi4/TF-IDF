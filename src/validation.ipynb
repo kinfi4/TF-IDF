{
 "cells": [
  {
   "cell_type": "code",
   "execution_count": 1,
   "metadata": {
    "collapsed": true,
    "ExecuteTime": {
     "start_time": "2023-04-17T11:02:41.736382Z",
     "end_time": "2023-04-17T11:02:42.724276Z"
    }
   },
   "outputs": [],
   "source": [
    "import pandas as pd\n",
    "from sklearn.svm import SVC\n",
    "from sklearn.metrics import accuracy_score\n",
    "from sklearn.model_selection import train_test_split\n",
    "from sklearn.feature_extraction.text import CountVectorizer, TfidfVectorizer as SklearnTfIdf\n",
    "\n",
    "from src.tf_idf.services import TfIdfVectorizer\n",
    "from src.tf_idf.services.parallel_tf_idf import ParallelTfIdfVectorizer"
   ]
  },
  {
   "cell_type": "code",
   "execution_count": 2,
   "outputs": [
    {
     "data": {
      "text/plain": "                                  text sentiment\n0  I`d have responded, if I were going   neutral\n1                             Sooo SAD  negative\n2                          bullying me  negative\n3                       leave me alone  negative\n4                        Sons of ****,  negative",
      "text/html": "<div>\n<style scoped>\n    .dataframe tbody tr th:only-of-type {\n        vertical-align: middle;\n    }\n\n    .dataframe tbody tr th {\n        vertical-align: top;\n    }\n\n    .dataframe thead th {\n        text-align: right;\n    }\n</style>\n<table border=\"1\" class=\"dataframe\">\n  <thead>\n    <tr style=\"text-align: right;\">\n      <th></th>\n      <th>text</th>\n      <th>sentiment</th>\n    </tr>\n  </thead>\n  <tbody>\n    <tr>\n      <th>0</th>\n      <td>I`d have responded, if I were going</td>\n      <td>neutral</td>\n    </tr>\n    <tr>\n      <th>1</th>\n      <td>Sooo SAD</td>\n      <td>negative</td>\n    </tr>\n    <tr>\n      <th>2</th>\n      <td>bullying me</td>\n      <td>negative</td>\n    </tr>\n    <tr>\n      <th>3</th>\n      <td>leave me alone</td>\n      <td>negative</td>\n    </tr>\n    <tr>\n      <th>4</th>\n      <td>Sons of ****,</td>\n      <td>negative</td>\n    </tr>\n  </tbody>\n</table>\n</div>"
     },
     "execution_count": 2,
     "metadata": {},
     "output_type": "execute_result"
    }
   ],
   "source": [
    "df = pd.read_csv(\"./datasets/train.csv\")\n",
    "df = df[:4_000]\n",
    "df = df.dropna()\n",
    "df.head()"
   ],
   "metadata": {
    "collapsed": false,
    "ExecuteTime": {
     "start_time": "2023-04-17T11:02:42.729928Z",
     "end_time": "2023-04-17T11:02:42.823507Z"
    }
   }
  },
  {
   "cell_type": "code",
   "execution_count": 3,
   "outputs": [],
   "source": [
    "labels, label_to_str = df[\"sentiment\"].factorize()"
   ],
   "metadata": {
    "collapsed": false,
    "ExecuteTime": {
     "start_time": "2023-04-17T11:02:42.823778Z",
     "end_time": "2023-04-17T11:02:42.827388Z"
    }
   }
  },
  {
   "cell_type": "markdown",
   "source": [
    "## Models"
   ],
   "metadata": {
    "collapsed": false
   }
  },
  {
   "cell_type": "code",
   "execution_count": 4,
   "outputs": [],
   "source": [
    "my_tf_idf = TfIdfVectorizer()\n",
    "my_tf_idf.fit(df[\"text\"])"
   ],
   "metadata": {
    "collapsed": false,
    "ExecuteTime": {
     "start_time": "2023-04-17T11:02:42.827590Z",
     "end_time": "2023-04-17T11:02:43.405790Z"
    }
   }
  },
  {
   "cell_type": "code",
   "execution_count": 5,
   "outputs": [],
   "source": [
    "sklearn_tf_idf = SklearnTfIdf()\n",
    "_ = sklearn_tf_idf.fit(df[\"text\"])"
   ],
   "metadata": {
    "collapsed": false,
    "ExecuteTime": {
     "start_time": "2023-04-17T11:02:43.412552Z",
     "end_time": "2023-04-17T11:02:43.442251Z"
    }
   }
  },
  {
   "cell_type": "code",
   "execution_count": 6,
   "outputs": [],
   "source": [
    "count_vectorizer = CountVectorizer()\n",
    "_ = count_vectorizer.fit(df[\"text\"])"
   ],
   "metadata": {
    "collapsed": false,
    "ExecuteTime": {
     "start_time": "2023-04-17T11:02:43.459273Z",
     "end_time": "2023-04-17T11:02:43.499857Z"
    }
   }
  },
  {
   "cell_type": "code",
   "execution_count": 7,
   "outputs": [],
   "source": [
    "my_tf_idf_vectors = my_tf_idf.transform(df[\"text\"])"
   ],
   "metadata": {
    "collapsed": false,
    "ExecuteTime": {
     "start_time": "2023-04-17T11:02:43.503535Z",
     "end_time": "2023-04-17T11:02:44.772893Z"
    }
   }
  },
  {
   "cell_type": "code",
   "execution_count": 8,
   "outputs": [],
   "source": [
    "sklearn_tf_idf_vectors = sklearn_tf_idf.transform(df[\"text\"])"
   ],
   "metadata": {
    "collapsed": false,
    "ExecuteTime": {
     "start_time": "2023-04-17T11:02:44.789934Z",
     "end_time": "2023-04-17T11:02:44.806036Z"
    }
   }
  },
  {
   "cell_type": "code",
   "execution_count": 9,
   "outputs": [],
   "source": [
    "count_vector = count_vectorizer.transform(df[\"text\"])"
   ],
   "metadata": {
    "collapsed": false,
    "ExecuteTime": {
     "start_time": "2023-04-17T11:02:44.830622Z",
     "end_time": "2023-04-17T11:02:44.833677Z"
    }
   }
  },
  {
   "cell_type": "markdown",
   "source": [
    "## Create models"
   ],
   "metadata": {
    "collapsed": false
   }
  },
  {
   "cell_type": "markdown",
   "source": [
    "### My TF-IDF"
   ],
   "metadata": {
    "collapsed": false
   }
  },
  {
   "cell_type": "code",
   "execution_count": 10,
   "outputs": [
    {
     "name": "stdout",
     "output_type": "stream",
     "text": [
      "Accuracy is: 0.78625\n",
      "Accuracy is: 0.7925\n",
      "Accuracy is: 0.79625\n",
      "Accuracy is: 0.80125\n",
      "Accuracy is: 0.78\n"
     ]
    }
   ],
   "source": [
    "accuracies = []\n",
    "\n",
    "for _ in range(5):\n",
    "    x_train__my, x_test__my, y_train__my, y_test__my = train_test_split(my_tf_idf_vectors.to_numpy(), labels, test_size=0.2, shuffle=True)\n",
    "\n",
    "    my_tf_idf_svc = SVC()\n",
    "    _ = my_tf_idf_svc.fit(x_train__my, y_train__my)\n",
    "\n",
    "    predicted_results = my_tf_idf_svc.predict(x_test__my)\n",
    "    acc = accuracy_score(predicted_results, y_test__my)\n",
    "    accuracies.append(acc)\n",
    "    print(f\"Accuracy is: {acc}\")"
   ],
   "metadata": {
    "collapsed": false,
    "ExecuteTime": {
     "start_time": "2023-04-17T11:02:44.835822Z",
     "end_time": "2023-04-17T11:07:25.584714Z"
    }
   }
  },
  {
   "cell_type": "code",
   "execution_count": 11,
   "outputs": [
    {
     "name": "stdout",
     "output_type": "stream",
     "text": [
      "AVERAGE ACCURACY FOR MY VECTORIZER:  0.791\n"
     ]
    }
   ],
   "source": [
    "print(\"AVERAGE ACCURACY FOR MY VECTORIZER: \", round(sum(accuracies) / len(accuracies), 3))"
   ],
   "metadata": {
    "collapsed": false,
    "ExecuteTime": {
     "start_time": "2023-04-17T11:07:25.580201Z",
     "end_time": "2023-04-17T11:07:25.585478Z"
    }
   }
  },
  {
   "cell_type": "markdown",
   "source": [
    "### Count vectorizer"
   ],
   "metadata": {
    "collapsed": false
   }
  },
  {
   "cell_type": "code",
   "execution_count": null,
   "outputs": [],
   "source": [
    "accuracies = []\n",
    "\n",
    "for _ in range(5):\n",
    "    x_train__count, x_test__count, y_train__count, y_test__count = train_test_split(count_vector.toarray(), labels, test_size=0.2, shuffle=True)\n",
    "\n",
    "    count_svc = SVC()\n",
    "    _ = count_svc.fit(x_train__count, y_train__count)\n",
    "\n",
    "    predicted_results = count_svc.predict(x_test__count)\n",
    "    acc = accuracy_score(predicted_results, y_test__count)\n",
    "    accuracies.append(acc)\n",
    "\n",
    "    print(f\"Accuracy is: {acc}\")"
   ],
   "metadata": {
    "collapsed": false,
    "ExecuteTime": {
     "start_time": "2023-04-08T14:50:05.815318Z",
     "end_time": "2023-04-08T14:52:56.587384Z"
    }
   }
  },
  {
   "cell_type": "code",
   "execution_count": null,
   "outputs": [],
   "source": [
    "print(\"AVERAGE ACCURACY FOR COUNT VECTORIZER: \", round(sum(accuracies) / len(accuracies), 3))"
   ],
   "metadata": {
    "collapsed": false,
    "ExecuteTime": {
     "start_time": "2023-04-08T14:52:56.590092Z",
     "end_time": "2023-04-08T14:52:56.641726Z"
    }
   }
  },
  {
   "cell_type": "markdown",
   "source": [
    "### Sklearn TF-IDF"
   ],
   "metadata": {
    "collapsed": false
   }
  },
  {
   "cell_type": "code",
   "execution_count": 12,
   "outputs": [
    {
     "name": "stdout",
     "output_type": "stream",
     "text": [
      "Accuracy is: 0.8025\n",
      "Accuracy is: 0.78625\n",
      "Accuracy is: 0.8025\n",
      "Accuracy is: 0.78875\n",
      "Accuracy is: 0.81625\n"
     ]
    }
   ],
   "source": [
    "accuracies = []\n",
    "\n",
    "for _ in range(5):\n",
    "    x_train__sk, x_test__sk, y_train__sk, y_test__sk = train_test_split(sklearn_tf_idf_vectors.toarray(), labels, test_size=0.2, shuffle=True)\n",
    "\n",
    "    sk_tf_idf_svc = SVC()\n",
    "    _ = sk_tf_idf_svc.fit(x_train__sk, y_train__sk)\n",
    "\n",
    "    predicted_results = sk_tf_idf_svc.predict(x_test__sk)\n",
    "    acc = accuracy_score(predicted_results, y_test__sk)\n",
    "    accuracies.append(acc)\n",
    "\n",
    "    print(f\"Accuracy is: {acc}\")"
   ],
   "metadata": {
    "collapsed": false,
    "ExecuteTime": {
     "start_time": "2023-04-17T11:07:25.580625Z",
     "end_time": "2023-04-17T11:11:47.989143Z"
    }
   }
  },
  {
   "cell_type": "code",
   "execution_count": 13,
   "outputs": [
    {
     "name": "stdout",
     "output_type": "stream",
     "text": [
      "AVERAGE ACCURACY FOR SKLEARN COUNT TF-IDF:  0.799\n"
     ]
    }
   ],
   "source": [
    "print(\"AVERAGE ACCURACY FOR SKLEARN COUNT TF-IDF: \", round(sum(accuracies) / len(accuracies), 3))"
   ],
   "metadata": {
    "collapsed": false,
    "ExecuteTime": {
     "start_time": "2023-04-17T11:11:47.988845Z",
     "end_time": "2023-04-17T11:11:47.993981Z"
    }
   }
  },
  {
   "cell_type": "code",
   "execution_count": null,
   "outputs": [],
   "source": [],
   "metadata": {
    "collapsed": false
   }
  }
 ],
 "metadata": {
  "kernelspec": {
   "display_name": "Python 3",
   "language": "python",
   "name": "python3"
  },
  "language_info": {
   "codemirror_mode": {
    "name": "ipython",
    "version": 2
   },
   "file_extension": ".py",
   "mimetype": "text/x-python",
   "name": "python",
   "nbconvert_exporter": "python",
   "pygments_lexer": "ipython2",
   "version": "2.7.6"
  }
 },
 "nbformat": 4,
 "nbformat_minor": 0
}
